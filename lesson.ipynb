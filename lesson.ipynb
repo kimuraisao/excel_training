{
  "nbformat": 4,
  "nbformat_minor": 0,
  "metadata": {
    "colab": {
      "provenance": [],
      "authorship_tag": "ABX9TyMNLF/vZbdZImpyPmeCGO63",
      "include_colab_link": true
    },
    "kernelspec": {
      "name": "python3",
      "display_name": "Python 3"
    },
    "language_info": {
      "name": "python"
    }
  },
  "cells": [
    {
      "cell_type": "markdown",
      "metadata": {
        "id": "view-in-github",
        "colab_type": "text"
      },
      "source": [
        "<a href=\"https://colab.research.google.com/github/kimuraisao/excel_training/blob/master/lesson.ipynb\" target=\"_parent\"><img src=\"https://colab.research.google.com/assets/colab-badge.svg\" alt=\"Open In Colab\"/></a>"
      ]
    },
    {
      "cell_type": "code",
      "execution_count": 61,
      "metadata": {
        "colab": {
          "base_uri": "https://localhost:8080/"
        },
        "id": "-GyPTahcNx0o",
        "outputId": "a8f45637-3082-4192-c939-41758bf005e0"
      },
      "outputs": [
        {
          "output_type": "stream",
          "name": "stdout",
          "text": [
            "三角形の面積を求めます\n",
            "底辺の長さを入力してください4\n",
            "高さを入力してください6\n",
            "三角形の面積は 12.0 です\n"
          ]
        }
      ],
      "source": [
        "def get_triangle_area(base, height):\n",
        "    return base * height / 2\n",
        "\n",
        "print(\"三角形の面積を求めます\")\n",
        "base = int(input(\"底辺の長さを入力してください\"))\n",
        "height = int(input(\"高さを入力してください\"))\n",
        "\n",
        "area = get_triangle_area(base, height)\n",
        "print(\"三角形の面積は\", area, \"です\")"
      ]
    },
    {
      "cell_type": "markdown",
      "source": [],
      "metadata": {
        "id": "8EziXtHDoST3"
      }
    }
  ]
}